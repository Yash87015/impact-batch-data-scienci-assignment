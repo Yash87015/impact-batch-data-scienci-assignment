{
  "nbformat": 4,
  "nbformat_minor": 0,
  "metadata": {
    "colab": {
      "provenance": [],
      "authorship_tag": "ABX9TyMFuyyzHZRSpW3lO1/gvySB",
      "include_colab_link": true
    },
    "kernelspec": {
      "name": "python3",
      "display_name": "Python 3"
    },
    "language_info": {
      "name": "python"
    }
  },
  "cells": [
    {
      "cell_type": "markdown",
      "metadata": {
        "id": "view-in-github",
        "colab_type": "text"
      },
      "source": [
        "<a href=\"https://colab.research.google.com/github/Yash87015/impact-batch-data-scienci-assignment/blob/main/5th_feb_OOPS_Assignment.ipynb\" target=\"_parent\"><img src=\"https://colab.research.google.com/assets/colab-badge.svg\" alt=\"Open In Colab\"/></a>"
      ]
    },
    {
      "cell_type": "markdown",
      "source": [
        "#  Python Assignment Questions\n",
        "#  5th feb  OOPS Assignment\n",
        "\n",
        "Name:-Yash solanki\n",
        "\n",
        "Reg email id:-yash87015@gmail.com\n",
        "\n",
        "Course name:-Data Science Masters\n",
        "\n",
        "Assignment name:-5th feb  OOPS Assignment\n",
        "\n",
        "Submission date:-not declare\n",
        "\n",
        "Git link:-https://github.com/Yash87015/impact-batch-data-scienci-assignment.git\n",
        "\n",
        "\n"
      ],
      "metadata": {
        "id": "fRfVynjpkcpv"
      }
    },
    {
      "cell_type": "markdown",
      "source": [
        "## Q1. Explain Class and Object with respect to Object-Oriented Programming. Give a suitable example.\n",
        "\n",
        "### Ans\n",
        "CLASS:\n",
        " In object-oriented programming, a class is a blueprint for creating objects(a particular data structure),providing intial values for state(memeber variables or attributes), and implementations of behaviour(member functios or methods).\n",
        "\n",
        " The user-defined objects are created using the \"class\" keyword. The class is a blueprint that defines a nature of future object. An instance is a specific object created from a particular class. Classes are used to create and manage new objects and support inheritance- a key ingredient in object-oriented programming and a mechanism ofreusing code.\n",
        "\n",
        " A class is a way of organizing information about a type of data so a programmer can reuse elements when making multiple instances of that data type.\n",
        "\n",
        "**For example, if a programmer wanted to make three instances of Car, maybe a BMW, a Ferrari, and a Ford instance. The car class would allow the programmer to store similar information that is unique to each car(they are different models, and maybe different colors, etc.) and associate the appropriate information with each car.**\n",
        "\n",
        "In object-oriented programming, a class is a template definition of the methods and variables in a particular kind of object. Thus, an object is a specific instance of a class; it contains real values instead of variables.\n",
        "\n",
        " The class is one of the defining ideas of object-oriented programming. The important ideas about classes are:\n",
        "  \n",
        "  1. A class can have subclasses that can inherit all or some of the characteristics of the class. In relation to each subclass, the class becomes the superclass.\n",
        "  2. Subclasses can also define their own methods and variables that are not part of their superclasses.\n",
        "  3. The structure of a class and its subclasses is called the class hierarchy\n",
        "\n",
        "OBJECT:\n",
        "\n",
        "In object-oriented programming(OOP),objects are the things you think about first in designing a program ad they are eventually derived from the process. In bedtweem each object, and even more gemeric classes are defined so that objects can share models and reuse the class definitions in their code. Each object is an instance of a particular class or subclass with the class's own methods or procedures and data variables. An object is what actually runs in the computer.\n",
        "\n",
        "CHARACTERISTICS OF AN OBJECT:\n",
        "\n",
        "All individual objects possess three basic characteristics--identity,state and behavior.Understanding these characteristics is crucial to knowing how objets and object-oriented logic work.\n",
        "   \n",
        "   1.Identity: It means that each object has its own object identifier and can be differentiated from all other objects. Each objects name, or identity, is unique and distinct from other objects.\n",
        "   2.State: It refers to the properties of an object. For example, values of variables in the object contain data that can be added, changed or deleted.\n",
        "   3.Behavior: It refers to actions that the object can take. For example, one object can respond to another object to carry out software functions.\n",
        "\n",
        "Example for objects are the real world objects: your dog, your desk, your bag, your bike and many more around us.\n",
        "\n",
        " **summary**\n",
        "\n",
        "  In OOP, classes provide a way to bundle data and functionality together, while objects are the concrete instances of these classes that hold specific data. This organization helps in creating modular, reusable, and maintainable code."
      ],
      "metadata": {
        "id": "Ov0v8gnhQjaR"
      }
    },
    {
      "cell_type": "code",
      "source": [
        "# Define the Car class\n",
        "class Car:\n",
        "    def __init__(self, make, model, year):\n",
        "        self.make = make        # Attribute for the car's make\n",
        "        self.model = model      # Attribute for the car's model\n",
        "        self.year = year        # Attribute for the car's year\n",
        "\n",
        "    def display_info(self):\n",
        "        # Method to display car information\n",
        "        return f\"{self.year} {self.make} {self.model}\"\n",
        "\n",
        "# Create objects (instances) of the Car class\n",
        "car1 = Car(\"Toyota\", \"Camry\", 2021)\n",
        "car2 = Car(\"Honda\", \"Accord\", 2020)\n",
        "\n",
        "# Access attributes and methods\n",
        "print(car1.display_info())  # Output: 2021 Toyota Camry\n",
        "print(car2.display_info())  # Output: 2020 Honda Accord\n"
      ],
      "metadata": {
        "colab": {
          "base_uri": "https://localhost:8080/"
        },
        "id": "VV0ioFQMMg6U",
        "outputId": "88dff1c5-7f69-4e67-9db8-2a83951a6c87"
      },
      "execution_count": 11,
      "outputs": [
        {
          "output_type": "stream",
          "name": "stdout",
          "text": [
            "2021 Toyota Camry\n",
            "2020 Honda Accord\n"
          ]
        }
      ]
    },
    {
      "cell_type": "markdown",
      "source": [
        "## Q2. Name the four pillars of OOPs.\n",
        "\n",
        "### Ans\n"
      ],
      "metadata": {
        "id": "BjMcp60LVFMp"
      }
    },
    {
      "cell_type": "markdown",
      "source": [
        "The four pillars of OOPs are:\n",
        "1) Inheritance\n",
        "\n",
        "2) Encapsulation\n",
        "\n",
        "3) Abstraction\n",
        "\n",
        "4) Polymorphism\n",
        "\n",
        "→ we see in deatails\n",
        "1. Inheritance:Inheritance is the ability of one class to inherit the attributes and methods of another class. This is useful because it allows you to create subclasses that are specialized versions of a parent class. For example, you could have a parent class.For example, you could have a parent class called Vehicle, with subclasses Car and Truck. The Vehicle class would contian general attributes and methods that are common to all vehicles, such as the number of wheels and the color.\n",
        "         \n",
        "2. Encapsulation:Encapsulation is the process of hiding information within an object so that it cannot be accessed directly from ouside the object. This allows you to control how data is used and prevents accidental modification of data. For example,you could have a class called Person with attributes such name and age. You could then create methods to get and set these attributes. This would allow ou to control how the data is used, and you could add validation to ensure that the data is valid before it is set.\n",
        "\n",
        "3. Abstraction:Abstraction is the process of hiding the implementation details of an object so that it can be used without understanding how it works, This allows you to create code that is easy to use and maintian.For example, you could have a class called Vehicle with methods such as drive and stop, the details of how these methods work are hidden from the user, so they are can simply call the methods and trust that they will woork as expected.\n",
        "\n",
        "4. Polymorphism:polymorphism is the ability of an object to take on multiple forms. This is useful because it allows you to create code the that is more flexible and adaptable. FOr example, you could have a class called Shape with subclasses Circle and Rectangle. The Shape class would contain general methods such as getArea and getPerimeter. The Circle and Rectagle subclasses would then each have their own unique implementation of these methods."
      ],
      "metadata": {
        "id": "E-FbV8-5VR-Y"
      }
    },
    {
      "cell_type": "markdown",
      "source": [
        "## Q3. Explain why the __init__() function is used. Give a suitable example.\n",
        "### ANs"
      ],
      "metadata": {
        "id": "Vw43UO1gV0KQ"
      }
    },
    {
      "cell_type": "markdown",
      "source": [
        "In an object-oriented approach, the init method is the Python equivalent of the c++ constructor. Every time an object is created from a class, the init function is called. The init method only allows the class to initialize the object's attributes. It is only used within classes.\n",
        "=> `__init__()` function is defined just like a regular python function. Self must be the first agrument. After that, you can pass arguments of your requirements. The logic of the function comes in the function definition part.\n",
        "\n",
        "Syntax:\n",
        "\n",
        "     class Songs:\n",
        "         def __init__(self,arguments):\n",
        "            #function definition\n",
        "            \n",
        "\n",
        "\n",
        "\n",
        "=> The `__init__ `method lets the class initialize the object's attributes and serves no other purpose. It is only used within the classes.This method is useful to do any initialization you want to do with you object."
      ],
      "metadata": {
        "id": "7vf46Ue8V8Oo"
      }
    },
    {
      "cell_type": "code",
      "source": [
        "# example of init\n",
        "class Person:\n",
        "    def __init__(self,name,age):\n",
        "        self.name=name\n",
        "        self.age=age\n",
        "        print(\"this is init function\")\n",
        "        print(\"name is\",self.name)\n",
        "        print(\"age is\",self.age)\n",
        "#print function\n",
        "p1=Person(\"manjulika\",45)"
      ],
      "metadata": {
        "colab": {
          "base_uri": "https://localhost:8080/"
        },
        "id": "tiLtraQUVPsg",
        "outputId": "a161ad95-8b83-4930-d23b-7cba05c87094"
      },
      "execution_count": 14,
      "outputs": [
        {
          "output_type": "stream",
          "name": "stdout",
          "text": [
            "this is init function\n",
            "name is manjulika\n",
            "age is 45\n"
          ]
        }
      ]
    },
    {
      "cell_type": "markdown",
      "source": [
        "## Q4. Why self is used in OOPs?\n",
        "### Ans\n",
        "1. Instance Reference:-\n",
        "self is used to refer to the current instance of the class. It allows methods to access instance attributes and other methods within the class.\n",
        "\n",
        "2. Distinguishing Attributes:-\n",
        "Using self helps differentiate between instance variables and local variables within methods. This clarity is crucial for maintaining correct references.\n",
        "\n",
        "3. Method Access:-\n",
        "self enables methods to call other methods within the same instance, supporting encapsulation and code organization.\n",
        "\n",
        "4. Consistency and Readability:-\n",
        "Using self is a widely accepted convention in Python, promoting readability. It makes it clear that the attributes and methods belong to the specific instance of the class.\n",
        "\n",
        "5. Support for Inheritance:-\n",
        "When a class inherits from another, self ensures that methods and attributes refer to the instance of the subclass, facilitating polymorphism.\n",
        "\n",
        "→ lets see each example"
      ],
      "metadata": {
        "id": "59Ug1fUlXF9R"
      }
    },
    {
      "cell_type": "code",
      "source": [
        "#example of instance refrence\n",
        "class Cat:\n",
        "    def __init__(self, name):\n",
        "        self.name = name  # self.name is an instance variable\n",
        "\n",
        "    def speak(self):\n",
        "        return f\"{self.name} says meow!\"\n",
        "an=Cat(\"tom\")\n",
        "an.speak()"
      ],
      "metadata": {
        "colab": {
          "base_uri": "https://localhost:8080/",
          "height": 36
        },
        "id": "4L6JYP9nZCey",
        "outputId": "2da65d98-e1b4-4860-b40b-caa89ae274f9"
      },
      "execution_count": 16,
      "outputs": [
        {
          "output_type": "execute_result",
          "data": {
            "text/plain": [
              "'tom says meow!'"
            ],
            "application/vnd.google.colaboratory.intrinsic+json": {
              "type": "string"
            }
          },
          "metadata": {},
          "execution_count": 16
        }
      ]
    },
    {
      "cell_type": "code",
      "source": [
        "#example of Distinguishing Attributes\n",
        "class Counter:\n",
        "    def __init__(self):\n",
        "        self.count = 0  # Instance variable\n",
        "\n",
        "    def increment(self):\n",
        "        self.count += 1  # Referring to the instance variable\n",
        "        return self.count\n",
        "\n",
        "    def get_count(self):\n",
        "        return self.count  # Referring to the instance\n",
        "\n",
        "counter = Counter()\n",
        "print(counter.increment())\n",
        "print(counter.increment())\n",
        "print(counter.increment())\n",
        "\n",
        "\n"
      ],
      "metadata": {
        "colab": {
          "base_uri": "https://localhost:8080/"
        },
        "id": "QczlupL0ZbZJ",
        "outputId": "3ce31df4-a7bb-4f44-ce71-2ece5699a061"
      },
      "execution_count": 20,
      "outputs": [
        {
          "output_type": "stream",
          "name": "stdout",
          "text": [
            "1\n",
            "2\n",
            "3\n"
          ]
        }
      ]
    },
    {
      "cell_type": "code",
      "source": [
        "#example of method acesss\n",
        "class Calculator:\n",
        "    def add(self, a, b):\n",
        "        return a + b\n",
        "\n",
        "    def add_and_double(self, a, b):\n",
        "        return 2 * self.add(a, b)  # Calls another method using self\n",
        "\n",
        "py=Calculator()\n",
        "print(py.add(1,2))\n",
        "print(py.add_and_double(1,2))\n",
        "\n"
      ],
      "metadata": {
        "colab": {
          "base_uri": "https://localhost:8080/"
        },
        "id": "sGFErUItZzeS",
        "outputId": "6b016da2-1f27-4c93-87eb-c13a6b689ed1"
      },
      "execution_count": 21,
      "outputs": [
        {
          "output_type": "stream",
          "name": "stdout",
          "text": [
            "3\n",
            "6\n"
          ]
        }
      ]
    },
    {
      "cell_type": "code",
      "source": [
        "#example of 4,5\n",
        "class Person:\n",
        "    def __init__(self, name):\n",
        "        self.name = name\n",
        "\n",
        "    def greet(self):\n",
        "        return f\"Hello, my name is {self.name}.\"\n",
        "\n",
        "# Creating an instance of Person\n",
        "person1 = Person(\"Alice\")\n",
        "print(person1.greet())\n"
      ],
      "metadata": {
        "colab": {
          "base_uri": "https://localhost:8080/"
        },
        "id": "YeQ6G2k1a0by",
        "outputId": "0d2c0e97-ff87-4398-e731-5a3ff8a5f734"
      },
      "execution_count": 23,
      "outputs": [
        {
          "output_type": "stream",
          "name": "stdout",
          "text": [
            "Hello, my name is Alice.\n"
          ]
        }
      ]
    },
    {
      "cell_type": "code",
      "source": [
        "#this is optional example not include question this is for my understanding\n",
        "class check:\n",
        "    def __init__(self):\n",
        "        print(\"Address of self = \",id(self))\n",
        "\n",
        "obj = check()\n",
        "print(\"Address of class object = \",id(obj))"
      ],
      "metadata": {
        "colab": {
          "base_uri": "https://localhost:8080/"
        },
        "id": "XN-thEAIW7Vq",
        "outputId": "9dd146f6-bed2-4f20-ec17-f233838eebad"
      },
      "execution_count": 15,
      "outputs": [
        {
          "output_type": "stream",
          "name": "stdout",
          "text": [
            "Address of self =  133551936749424\n",
            "Address of class object =  133551936749424\n"
          ]
        }
      ]
    },
    {
      "cell_type": "markdown",
      "source": [
        "## Q5. What is inheritance? Give an example for each type of inheritance.\n",
        "\n",
        "### Ans\n",
        "**Inheritance:-**\n",
        "Inheritance is the ability of one class to inherit the attributes and methods of another class. This is useful because it allows you to create subclasses that are specialized versions of a parent class. For example, you could have a parent class.For example, you could have a parent class called Vehicle, with subclasses Car and Truck. The Vehicle class would contian general attributes and methods that are common to all vehicles, such as the number of wheels and the color.\n",
        "\n",
        "The interesting thing is, along with the inherited properites and methods, a child class can have its own properties and methods. There are five types of inheritance, they are;\n",
        "\n",
        "  1. Single inheritance\n",
        "  2. Multiple inheritance\n",
        "  3. Multilevel inheritance\n",
        "  4. Hierarchical inheritance\n",
        "  5. Hybrid(virtual) inheritance\n",
        "\n",
        "    \n",
        "\n",
        "*    Single inheritance:This is a form of inheritance in which a class inherits only one parent class.This is the simple form of inheritance and hence also referred to as simple inheritance.\n",
        "\n",
        "\n",
        "*     Multiple inheritance:- An inheritance becomes multiple inheritances when a class inherits more than one parent class. The child class after inheriting properties from various parent classes has to all of their objects.\n",
        "\n",
        "\n",
        "*    Multi-level inheritance:-For example, a class_1 is inherited by a class_2 and this class_2 and this goes on. This is known as the multi-level inheritance.\n",
        "\n",
        "*    Hierarchical inheritance:-In this, various classes inherit a single parent class. The example given in the introduction of the inheritance is an examplef of Hierarchical inheritance since classes BMW and Audi inheirt class CAr.\n",
        "\n",
        "*   Hybrid(virtual) inheritance:-When there is a combination of more than one form of inheritance, it is known as hybrid inheritance. It will be more clear after this example:\n",
        "\n",
        "→each inhertence example below\n",
        "\n",
        "\n",
        "\n",
        "\n"
      ],
      "metadata": {
        "id": "ZfS55vl7cjWz"
      }
    },
    {
      "cell_type": "code",
      "source": [
        "# example of inheritance\n",
        "# Grandparent class\n",
        "class Grandfather:\n",
        "    def __init__(self, name):\n",
        "        self.name = name\n",
        "\n",
        "    def wisdom(self):\n",
        "        return \"Wisdom of the ages.\"\n",
        "\n",
        "# Parent class inheriting from Grandfather\n",
        "class Father(Grandfather):\n",
        "    def work(self):\n",
        "        return \"I work hard to provide for the family.\"\n",
        "\n",
        "# Child class inheriting from Father\n",
        "class Son(Father):\n",
        "    def play(self):\n",
        "        return \"I love to play soccer.\"\n",
        "\n",
        "# Creating instances\n",
        "grandfather = Grandfather(\"John\")\n",
        "father = Father(\"Mike\")\n",
        "son = Son(\"Tom\")\n",
        "\n",
        "# Using methods\n",
        "print(grandfather.name)\n",
        "print(grandfather.wisdom())\n",
        "\n",
        "print('\\n')\n",
        "print(father.name)\n",
        "print(father.wisdom())\n",
        "print(father.work())\n",
        "\n",
        "print('\\n')\n",
        "print(son.name)\n",
        "print(son.wisdom())\n",
        "print(son.work())\n",
        "print(son.play())\n",
        "\n",
        "#remeber son class is very power full heritage all the property\n"
      ],
      "metadata": {
        "colab": {
          "base_uri": "https://localhost:8080/"
        },
        "id": "TP629QU8brxS",
        "outputId": "4365134e-b44f-4ef5-9dce-d58f12fddaa3"
      },
      "execution_count": 35,
      "outputs": [
        {
          "output_type": "stream",
          "name": "stdout",
          "text": [
            "John\n",
            "Wisdom of the ages.\n",
            "\n",
            "\n",
            "Mike\n",
            "Wisdom of the ages.\n",
            "I work hard to provide for the family.\n",
            "\n",
            "\n",
            "Tom\n",
            "Wisdom of the ages.\n",
            "I work hard to provide for the family.\n",
            "I love to play soccer.\n"
          ]
        }
      ]
    },
    {
      "cell_type": "code",
      "source": [
        "#example of Single inheritance\n",
        "class Parent:\n",
        "    def f1(self):\n",
        "        print(\"Function of parent class.\")\n",
        "\n",
        "class Child(Parent):\n",
        "    def f2(self):\n",
        "        print(\"Function of child class.\")\n",
        "\n",
        "object1=Child()\n",
        "object1.f1()\n",
        "object1.f2()"
      ],
      "metadata": {
        "colab": {
          "base_uri": "https://localhost:8080/"
        },
        "id": "1Hxbx8YahMZD",
        "outputId": "a3d4b04d-08db-41e6-8fc8-fdb61c8a0a0e"
      },
      "execution_count": 31,
      "outputs": [
        {
          "output_type": "stream",
          "name": "stdout",
          "text": [
            "Function of parent class.\n",
            "Function of child class.\n"
          ]
        }
      ]
    },
    {
      "cell_type": "code",
      "source": [
        "#example  for multiple inheritance.\n",
        "class Parent_1:\n",
        "    def f1(self):\n",
        "        print(\"Function of parent_1 class.\")\n",
        "\n",
        "class Parent_2:\n",
        "    def f2(self):\n",
        "        print(\"Function of parent_2 class.\")\n",
        "\n",
        "class Child(Parent_1,Parent_2):\n",
        "    def f3(self):\n",
        "        print(\"Function of child class.\")\n",
        "\n",
        "object_1 = Child()\n",
        "object_1.f1()\n",
        "object_1.f2()\n",
        "object_1.f3()"
      ],
      "metadata": {
        "colab": {
          "base_uri": "https://localhost:8080/"
        },
        "id": "E0tvcP6dh70k",
        "outputId": "d0cde58e-6c37-4236-8c3b-641fd6d2ab8e"
      },
      "execution_count": 32,
      "outputs": [
        {
          "output_type": "stream",
          "name": "stdout",
          "text": [
            "Function of parent_1 class.\n",
            "Function of parent_2 class.\n",
            "Function of child class.\n"
          ]
        }
      ]
    },
    {
      "cell_type": "code",
      "source": [
        "#example for multi-level inheritance.\n",
        "class Parent:\n",
        "    def f1(self):\n",
        "        print(\"Function of parent class.\")\n",
        "\n",
        "class Child_1(Parent):\n",
        "    def f2(self):\n",
        "        print(\"Function of child_1 class.\")\n",
        "\n",
        "class Child_2(Child_1):\n",
        "    def f3(self):\n",
        "        print(\"Function of child_2 class.\")\n",
        "\n",
        "obj_1=Child_1()\n",
        "obj_2=Child_2()\n",
        "\n",
        "obj_1.f1()\n",
        "obj_1.f2()\n",
        "\n",
        "print(\" \")\n",
        "obj_2.f1()\n",
        "obj_2.f2()\n",
        "obj_2.f3()"
      ],
      "metadata": {
        "colab": {
          "base_uri": "https://localhost:8080/"
        },
        "id": "OvdLvwnfXoft",
        "outputId": "cdf8b24a-5220-4d31-8b35-bfdea5bd97ef"
      },
      "execution_count": 33,
      "outputs": [
        {
          "output_type": "stream",
          "name": "stdout",
          "text": [
            "Function of parent class.\n",
            "Function of child_1 class.\n",
            " \n",
            "Function of parent class.\n",
            "Function of child_1 class.\n",
            "Function of child_2 class.\n"
          ]
        }
      ]
    },
    {
      "cell_type": "code",
      "source": [
        "#example for the Hierarchical inheritance.\n",
        "class Parent:\n",
        "    def f1(self):\n",
        "        print(\"Function of parent class.\")\n",
        "\n",
        "class Child_1(Parent):\n",
        "    def f2(self):\n",
        "        print(\"Function of child_1 class.\")\n",
        "\n",
        "class Child_2(Parent):\n",
        "    def f3(self):\n",
        "        print(\"Function of child_2 class.\")\n",
        "\n",
        "obj_1 = Child_1()\n",
        "obj_2 = Child_2()\n",
        "\n",
        "obj_1.f1()\n",
        "obj_1.f2()\n",
        "\n",
        "print('\\n')\n",
        "obj_2.f1()\n",
        "obj_2.f3()"
      ],
      "metadata": {
        "colab": {
          "base_uri": "https://localhost:8080/"
        },
        "id": "sE7bmvgIh_-R",
        "outputId": "c37fb55f-8634-46e1-9b06-1877fbae8f23"
      },
      "execution_count": 34,
      "outputs": [
        {
          "output_type": "stream",
          "name": "stdout",
          "text": [
            "Function of parent class.\n",
            "Function of child_1 class.\n",
            "\n",
            "\n",
            "Function of parent class.\n",
            "Function of child_2 class.\n"
          ]
        }
      ]
    },
    {
      "cell_type": "code",
      "source": [
        "#example for Hybrid inheritance.\n",
        "def f1(self):\n",
        "    print(\"Function of parent class.\")\n",
        "\n",
        "class Child_1(Parent):\n",
        "    def f2(self):\n",
        "        print(\"Function of child_1 class.\")\n",
        "\n",
        "class Child_2(Parent):\n",
        "    def f3(self):\n",
        "        print(\"Function of child_2 class.\")\n",
        "\n",
        "class Child_3(Child_1, Child_2):\n",
        "    def f4(self):\n",
        "        print(\"Function of child_3 class.\")\n",
        "\n",
        "obj = Child_3()\n",
        "obj.f1()\n",
        "obj.f2()\n",
        "obj.f3()\n",
        "obj.f4()"
      ],
      "metadata": {
        "colab": {
          "base_uri": "https://localhost:8080/"
        },
        "id": "GUrmVk1QiMwn",
        "outputId": "e3fde6a2-a204-4583-9dc0-f693116360d3"
      },
      "execution_count": 36,
      "outputs": [
        {
          "output_type": "stream",
          "name": "stdout",
          "text": [
            "Function of parent class.\n",
            "Function of child_1 class.\n",
            "Function of child_2 class.\n",
            "Function of child_3 class.\n"
          ]
        }
      ]
    }
  ]
}