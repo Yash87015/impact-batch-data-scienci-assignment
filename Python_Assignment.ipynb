{
  "nbformat": 4,
  "nbformat_minor": 0,
  "metadata": {
    "colab": {
      "provenance": [],
      "authorship_tag": "ABX9TyOCI3n3KN0cibnCVw0nPY2E",
      "include_colab_link": true
    },
    "kernelspec": {
      "name": "python3",
      "display_name": "Python 3"
    },
    "language_info": {
      "name": "python"
    }
  },
  "cells": [
    {
      "cell_type": "markdown",
      "metadata": {
        "id": "view-in-github",
        "colab_type": "text"
      },
      "source": [
        "<a href=\"https://colab.research.google.com/github/Yash87015/impact-batch-data-scienci-assignment/blob/main/Python_Assignment.ipynb\" target=\"_parent\"><img src=\"https://colab.research.google.com/assets/colab-badge.svg\" alt=\"Open In Colab\"/></a>"
      ]
    },
    {
      "cell_type": "markdown",
      "source": [
        "#  Python Assignment Questions\n",
        "#  Python Assignment\n",
        "\n",
        "Name:-Yash solanki\n",
        "\n",
        "Reg email id:-yash87015@gmail.com\n",
        "\n",
        "Course name:-Data Science Masters\n",
        "\n",
        "Assignment name:-Python Assignment\n",
        "\n",
        "Submission date:-not declare\n",
        "\n",
        "Git link:-https://github.com/Yash87015/impact-batch-data-scienci-assignment.git\n",
        "\n",
        "\n"
      ],
      "metadata": {
        "id": "fRfVynjpkcpv"
      }
    },
    {
      "cell_type": "markdown",
      "source": [
        "## Q1. Create a python program to sort the given list of tuples based on integer value using a lambda function.[('Sachin Tendulkar', 34357), ('Ricky Ponting', 27483), ('Jack Kallis', 25534), ('Virat Kohli', 24936)]\n",
        "\n",
        "### Ans"
      ],
      "metadata": {
        "id": "fTwFfiXDEdcV"
      }
    },
    {
      "cell_type": "code",
      "source": [
        "#using lambda given list of tuple based on integer value\n",
        "players = [('Sachin Tendulkar', 34357), ('Ricky Ponting', 27483), ('Jack Kallis', 25534), ('Virat Kohli', 24936)]\n",
        "sorted_list = sorted(players, key=lambda x: x[1])\n",
        "print(sorted_list)"
      ],
      "metadata": {
        "colab": {
          "base_uri": "https://localhost:8080/"
        },
        "id": "PsiRh57R8UGC",
        "outputId": "958034cc-192a-4a63-ee12-fd4876565c4f"
      },
      "execution_count": 26,
      "outputs": [
        {
          "output_type": "stream",
          "name": "stdout",
          "text": [
            "[('Virat Kohli', 24936), ('Jack Kallis', 25534), ('Ricky Ponting', 27483), ('Sachin Tendulkar', 34357)]\n"
          ]
        }
      ]
    },
    {
      "cell_type": "markdown",
      "source": [
        "## Q2. Write a Python Program to find the squares of all the numbers in the given list of integers using lambda and map functions.[1, 2, 3, 4, 5, 6, 7, 8, 9, 10]\n",
        "### Ans"
      ],
      "metadata": {
        "id": "MsoF5kn1FvVF"
      }
    },
    {
      "cell_type": "code",
      "source": [
        "#suare of given list using lambda and map\n",
        "# List of integers\n",
        "numbers = [1, 2, 3, 4, 5, 6, 7, 8, 9, 10]\n",
        "\n",
        "# Using map and lambda to find squares\n",
        "squares = list(map(lambda x: x**2, numbers))\n",
        "\n",
        "# Output the list of squares\n",
        "print(squares)\n"
      ],
      "metadata": {
        "colab": {
          "base_uri": "https://localhost:8080/"
        },
        "id": "1l1678ggEy2u",
        "outputId": "451cef3f-913e-45d7-ac26-a9aef60a0a1c"
      },
      "execution_count": 1,
      "outputs": [
        {
          "output_type": "stream",
          "name": "stdout",
          "text": [
            "[1, 4, 9, 16, 25, 36, 49, 64, 81, 100]\n"
          ]
        }
      ]
    },
    {
      "cell_type": "markdown",
      "source": [
        "## Q3. Write a python program to convert the given list of integers into a tuple of strings. Use map and lambda functions   \n",
        "## Given String: [1, 2, 3, 4, 5, 6, 7, 8, 9, 10]  Expected output: ('1', '2', '3', '4', '5', '6', '7', '8', '9', '10')\n",
        "\n",
        "### Ans\n"
      ],
      "metadata": {
        "id": "Ow28lmhtJUZ3"
      }
    },
    {
      "cell_type": "code",
      "source": [
        "#using map and lambda write pythone programe\n",
        "string=[1, 2, 3, 4, 5, 6, 7, 8, 9, 10]\n",
        "tuple_of_strings=tuple(map(lambda x:str(x),string))\n",
        "print(tuple_of_strings)\n"
      ],
      "metadata": {
        "colab": {
          "base_uri": "https://localhost:8080/"
        },
        "id": "D4GD5AxZHNY4",
        "outputId": "4dc8c981-a3c6-43f6-f24a-dacb5b14cbc1"
      },
      "execution_count": 2,
      "outputs": [
        {
          "output_type": "stream",
          "name": "stdout",
          "text": [
            "('1', '2', '3', '4', '5', '6', '7', '8', '9', '10')\n"
          ]
        }
      ]
    },
    {
      "cell_type": "markdown",
      "source": [
        "## Q4. Write a python program using reduce function to compute the product of a list containing numbers from 1 to 25.\n",
        "\n",
        "### Ans\n"
      ],
      "metadata": {
        "id": "lfoGffwfKIhu"
      }
    },
    {
      "cell_type": "code",
      "source": [
        "#using reduce list containing number\n",
        "from functools import reduce\n",
        "numbers=list(range(1,26))\n",
        "product=reduce(lambda x,y:x*y,numbers)\n",
        "print(product)"
      ],
      "metadata": {
        "colab": {
          "base_uri": "https://localhost:8080/"
        },
        "id": "qxe-x9HmKFf6",
        "outputId": "f4556b2b-c22e-47b2-c124-5b9e733201f6"
      },
      "execution_count": 5,
      "outputs": [
        {
          "output_type": "stream",
          "name": "stdout",
          "text": [
            "15511210043330985984000000\n"
          ]
        }
      ]
    },
    {
      "cell_type": "markdown",
      "source": [
        "## Q5. Write a python program to filter the numbers in a given list that are divisible by 2 and 3 using the filter function.   [2, 3, 6, 9, 27, 60, 90, 120, 55, 46]\n",
        "\n",
        "### Ans\n"
      ],
      "metadata": {
        "id": "Xc881uXTLHPu"
      }
    },
    {
      "cell_type": "code",
      "source": [
        "# filter the numbers in a given list that are divisible by 2 and 3 using the filter function.\n",
        "l1=[2, 3, 6, 9, 27, 60, 90, 120, 55, 46]\n",
        "list(filter(lambda x:x%2==0 and x%3==0,l1))"
      ],
      "metadata": {
        "colab": {
          "base_uri": "https://localhost:8080/"
        },
        "id": "6t9Br7GlLKUf",
        "outputId": "6ecf94b3-ad0e-4b95-bf66-0e1daea7e375"
      },
      "execution_count": 7,
      "outputs": [
        {
          "output_type": "execute_result",
          "data": {
            "text/plain": [
              "[6, 60, 90, 120]"
            ]
          },
          "metadata": {},
          "execution_count": 7
        }
      ]
    },
    {
      "cell_type": "code",
      "source": [
        "#filter diviable by 2\n",
        "list(filter(lambda x:x%2==0,l1))"
      ],
      "metadata": {
        "colab": {
          "base_uri": "https://localhost:8080/"
        },
        "id": "1VfnKcYBL8ay",
        "outputId": "8a55b992-81e3-4219-cf25-3edd6d3ad2fd"
      },
      "execution_count": 8,
      "outputs": [
        {
          "output_type": "execute_result",
          "data": {
            "text/plain": [
              "[2, 6, 60, 90, 120, 46]"
            ]
          },
          "metadata": {},
          "execution_count": 8
        }
      ]
    },
    {
      "cell_type": "code",
      "source": [
        "#filter divisable by 3\n",
        "list(filter(lambda x:x%3==0,l1))\n"
      ],
      "metadata": {
        "colab": {
          "base_uri": "https://localhost:8080/"
        },
        "id": "Tbs177UjMEm5",
        "outputId": "c1c5fd06-f6f2-40b9-957b-154a8dcb72b1"
      },
      "execution_count": 9,
      "outputs": [
        {
          "output_type": "execute_result",
          "data": {
            "text/plain": [
              "[3, 6, 9, 27, 60, 90, 120]"
            ]
          },
          "metadata": {},
          "execution_count": 9
        }
      ]
    },
    {
      "cell_type": "markdown",
      "source": [
        "## Q6. Write a python program to find palindromes in the given list of strings using lambda and filter function.   ['python', 'php', 'aba', 'radar', 'level']\n",
        "\n",
        "### Ans"
      ],
      "metadata": {
        "id": "Qg9PWucTMQA2"
      }
    },
    {
      "cell_type": "code",
      "source": [
        "#find palidromes of given list\n",
        "l2=['python', 'php', 'aba', 'radar', 'level']\n",
        "list(filter(lambda x:x==x[::-1],l2))\n"
      ],
      "metadata": {
        "colab": {
          "base_uri": "https://localhost:8080/"
        },
        "id": "MQ4FfwYbMJGy",
        "outputId": "053019f2-b952-4a7a-9e8a-76c3cc937226"
      },
      "execution_count": 10,
      "outputs": [
        {
          "output_type": "execute_result",
          "data": {
            "text/plain": [
              "['php', 'aba', 'radar', 'level']"
            ]
          },
          "metadata": {},
          "execution_count": 10
        }
      ]
    },
    {
      "cell_type": "code",
      "source": [],
      "metadata": {
        "id": "VV0ioFQMMg6U"
      },
      "execution_count": null,
      "outputs": []
    }
  ]
}