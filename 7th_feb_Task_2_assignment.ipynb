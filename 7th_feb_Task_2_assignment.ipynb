{
  "nbformat": 4,
  "nbformat_minor": 0,
  "metadata": {
    "colab": {
      "provenance": [],
      "authorship_tag": "ABX9TyNBifEBegPW9ykqZPPnTVXt",
      "include_colab_link": true
    },
    "kernelspec": {
      "name": "python3",
      "display_name": "Python 3"
    },
    "language_info": {
      "name": "python"
    }
  },
  "cells": [
    {
      "cell_type": "markdown",
      "metadata": {
        "id": "view-in-github",
        "colab_type": "text"
      },
      "source": [
        "<a href=\"https://colab.research.google.com/github/Yash87015/impact-batch-data-scienci-assignment/blob/main/7th_feb_Task_2_assignment.ipynb\" target=\"_parent\"><img src=\"https://colab.research.google.com/assets/colab-badge.svg\" alt=\"Open In Colab\"/></a>"
      ]
    },
    {
      "cell_type": "markdown",
      "source": [
        "#  Python Assignment Questions\n",
        "#  7th_feb Task - 2_assignment\n",
        "\n",
        "Name:-Yash solanki\n",
        "\n",
        "Reg email id:-yash87015@gmail.com\n",
        "\n",
        "Course name:-Data Science Masters\n",
        "\n",
        "Assignment name:-7th_feb Task - 2_assignment\n",
        "\n",
        "Submission date:-not declare\n",
        "\n",
        "Git link:-https://github.com/Yash87015/impact-batch-data-scienci-assignment.git\n",
        "\n",
        "\n"
      ],
      "metadata": {
        "id": "fRfVynjpkcpv"
      }
    },
    {
      "cell_type": "markdown",
      "source": [
        "## Q1. You are writing code for a company. The requirement of the company is that you create a python function that will check whether the password entered by the user is correct or not. The function should take the password as input and return the string “Valid Password” if the entered password follows the below-given password guidelines else it should return “Invalid Password”. Note: 1. The Password should contain at least two uppercase letters and at least two lowercase letters.2. The Password should contain at least a number and three special characters.3. The length of the password should be 10 characters long.\n",
        "\n",
        "### Ans"
      ],
      "metadata": {
        "id": "8-097PQk6cVf"
      }
    },
    {
      "cell_type": "code",
      "source": [
        "#create pythone function check all condition if pass then only valid otherwise invalid\n",
        "user_pass=input(\"enter your password\")\n",
        "def check_pass(user_pass):\n",
        "    import re\n",
        "\n",
        "    #the password should be 10 character long\n",
        "    if len(user_pass)==10:\n",
        "        #the password should contain at least two uppercase letters and at least two lowercase letters\n",
        "        if len(re.findall(r'[A-Z]',user_pass))>=2 and len(re.findall(r'[a-z]',user_pass))>=2:\n",
        "          #the password should cointain at least a number and three special character\n",
        "            if len(re.findall(r'\\d',user_pass))>=1 and len(re.findall(r'[!@#$%^&*()_+=]',user_pass))>=3:\n",
        "                return \"Valid Password\"\n",
        "            else:\n",
        "                return \"Invalid Password\"\n",
        "        else:\n",
        "            return \"Invalid Password\"\n",
        "    else:\n",
        "        return \"Invalid Password\"\n",
        "check_pass(user_pass)\n",
        "\n"
      ],
      "metadata": {
        "colab": {
          "base_uri": "https://localhost:8080/",
          "height": 53
        },
        "id": "bdpIQj6M6qEh",
        "outputId": "bcb70571-04fd-41d0-e80e-5e83a78a91c5"
      },
      "execution_count": 26,
      "outputs": [
        {
          "name": "stdout",
          "output_type": "stream",
          "text": [
            "enter your passwordYAsh9@#$Hn\n"
          ]
        },
        {
          "output_type": "execute_result",
          "data": {
            "text/plain": [
              "'Valid Password'"
            ],
            "application/vnd.google.colaboratory.intrinsic+json": {
              "type": "string"
            }
          },
          "metadata": {},
          "execution_count": 26
        }
      ]
    },
    {
      "cell_type": "markdown",
      "source": [
        "## Q2. Solve the below-given questions using at least one of the following:1. Lambda function 2. Filter function 3. Map function 4. List Comprehensional\n",
        "## 1. Check if the string starts with a particular letterY 2. Check if the string is numericY 3. Sort a list of tuples having fruit names and their quantity [(\"mango\",99),(\"orange\",80), (\"grapes\", 1000)- 4. Find the squares of numbers from 1 to 10Y B Find the cube root of numbers from 1 to 10Y 5. Check if a given number is evenY 6. Filter odd numbers from the given list. [1,2,3,4,5,6,7,8,9,10- 7. Sort a list of integers into positive and negative integers lists.[1,2,3,4,5,6,-1,-2,-3,-4,-5,0]\n",
        "\n",
        "### Ans"
      ],
      "metadata": {
        "id": "b-03c8C990AH"
      }
    },
    {
      "cell_type": "code",
      "source": [
        "#using lambda,map,filter and list compresion create function Check if the string starts with a particular letter\n",
        "st1=\"manjulika\"\n",
        "def check_input(st1):\n",
        "    check_letter=lambda x:x.startswith(st1)\n",
        "    if check_letter(st1):\n",
        "        print(f\"this is valid_string,and string is {st1}\")\n",
        "    else:\n",
        "        print(\"invalid\")\n",
        "check_input(st1)\n",
        "\n",
        "#Check if the string is numeric\n",
        "st2=\"456\"\n",
        "def check_input(st2):\n",
        "    check_number=lambda x:x.isnumeric()\n",
        "    if check_number(st2):\n",
        "        print(f\"this is valid_string,and string is {st2}\")\n",
        "    else:\n",
        "        print(\"invalid\")\n",
        "check_input(st2)\n",
        "\n",
        "#Sort a list of tuples having fruit names and their quantity [(\"mango\",99),(\"orange\",80), (\"grapes\", 1000)\n",
        "l1=[(\"mango\",99),(\"orange\",80), (\"grapes\", 1000)]\n",
        "l1.sort(key=lambda x:x[1])\n",
        "print(l1)\n",
        "\n",
        "#Find the squares of numbers from 1 to 10\n",
        "n1=[1,2,3,4,5,6,7,8,9,10]\n",
        "suare_number=list(map(lambda x:x**2,n1))\n",
        "print(f\"square of all number is,{suare_number}\")\n",
        "\n",
        "\n",
        "#Find the cube root of numbers from 1 to 10\n",
        "n2=[1,2,3,4,5,6,7,8,9,10]\n",
        "list(map(lambda x:x**(1/3),n2))\n",
        "print(f\"cube root of all number is,{list(map(lambda x:x**(1/3),n2))}\")\n",
        "\n",
        "# Check if a given number is even\n",
        "n3=6\n",
        "list(filter(lambda x:x%2==0,[n3]))\n",
        "print(f\"given number is even,{n3}\")\n",
        "\n",
        "# Filter odd numbers from the given list\n",
        "n4=[1,2,3,4,5,6,7,8,9,10]\n",
        "list(filter(lambda x:x%2!=0,n4))\n",
        "print(f\"odd number from given list is,{list(filter(lambda x:x%2!=0,n4))}\")\n",
        "\n",
        "# Sort a list of integers into positive and negative integers lists\n",
        "n5=[1,2,3,4,5,6,-1,-2,-3,-4,-5,0]\n",
        "list(filter(lambda x:x>0,n5))\n",
        "list(filter(lambda x:x<0,n5))\n",
        "print(f\"positive number from given list is,{list(filter(lambda x:x>0,n5))}\")\n",
        "print(f\"negative number from given list is,{list(filter(lambda x:x<0,n5))}\")\n",
        "\n",
        "\n"
      ],
      "metadata": {
        "colab": {
          "base_uri": "https://localhost:8080/"
        },
        "id": "yXjL8hog9zPn",
        "outputId": "a4fc7c01-273f-4fbc-c111-c3f297c59cee"
      },
      "execution_count": 47,
      "outputs": [
        {
          "output_type": "stream",
          "name": "stdout",
          "text": [
            "this is valid_string,and string is manjulika\n",
            "this is valid_string,and string is 456\n",
            "[('orange', 80), ('mango', 99), ('grapes', 1000)]\n",
            "square of all number is,[1, 4, 9, 16, 25, 36, 49, 64, 81, 100]\n",
            "cube root of all number is,[1.0, 1.2599210498948732, 1.4422495703074083, 1.5874010519681994, 1.7099759466766968, 1.8171205928321397, 1.912931182772389, 2.0, 2.080083823051904, 2.154434690031884]\n",
            "given number is even,6\n",
            "odd number from given list is,[1, 3, 5, 7, 9]\n",
            "positive number from given list is,[1, 2, 3, 4, 5, 6]\n",
            "negative number from given list is,[-1, -2, -3, -4, -5]\n"
          ]
        }
      ]
    }
  ]
}