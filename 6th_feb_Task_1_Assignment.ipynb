{
  "nbformat": 4,
  "nbformat_minor": 0,
  "metadata": {
    "colab": {
      "provenance": [],
      "authorship_tag": "ABX9TyMSG/nb9n5EqVVT/T0hgSBt",
      "include_colab_link": true
    },
    "kernelspec": {
      "name": "python3",
      "display_name": "Python 3"
    },
    "language_info": {
      "name": "python"
    }
  },
  "cells": [
    {
      "cell_type": "markdown",
      "metadata": {
        "id": "view-in-github",
        "colab_type": "text"
      },
      "source": [
        "<a href=\"https://colab.research.google.com/github/Yash87015/impact-batch-data-scienci-assignment/blob/main/6th_feb_Task_1_Assignment.ipynb\" target=\"_parent\"><img src=\"https://colab.research.google.com/assets/colab-badge.svg\" alt=\"Open In Colab\"/></a>"
      ]
    },
    {
      "cell_type": "markdown",
      "source": [
        "#  Python Assignment Questions\n",
        "#  6th feb  Task - 1 Assignment\n",
        "\n",
        "Name:-Yash solanki\n",
        "\n",
        "Reg email id:-yash87015@gmail.com\n",
        "\n",
        "Course name:-Data Science Masters\n",
        "\n",
        "Assignment name:-6th feb Task - 1 Assignment\n",
        "\n",
        "Submission date:-not declare\n",
        "\n",
        "Git link:-https://github.com/Yash87015/impact-batch-data-scienci-assignment.git\n",
        "\n",
        "\n"
      ],
      "metadata": {
        "id": "fRfVynjpkcpv"
      }
    },
    {
      "cell_type": "markdown",
      "source": [
        "## Q1. Create a function which will take a list as an argument and return the product of all the numbers after creating a flat list.Use the below-given list as an argument for your function.list1 = [1,2,3,4, [44,55,66, True], False, (34,56,78,89,34), {1,2,3,3,2,1}, {1:34, \"key2\": [55, 67, 78, 89], 4: (45,22, 61,34)},[56, 'data science'], 'Machine Learning']\n",
        "\n",
        "### Ans"
      ],
      "metadata": {
        "id": "ozAt4kHOAeKP"
      }
    },
    {
      "cell_type": "code",
      "source": [
        "def flatten(input_list):\n",
        "    result = []\n",
        "    for item in input_list:\n",
        "        if isinstance(item, list):\n",
        "            result.extend(flatten(item))\n",
        "        elif isinstance(item, tuple):\n",
        "            result.extend(flatten(list(item)))\n",
        "        elif isinstance(item, set):\n",
        "            result.extend(flatten(list(item)))\n",
        "        elif isinstance(item, dict):\n",
        "            result.extend(flatten(list(item.values())))\n",
        "        elif item is True:  # Treat True as 1\n",
        "            result.append(1)\n",
        "        elif item is not False:  # Ignore False\n",
        "            if isinstance(item, (int, float)):  # Only append numbers\n",
        "                result.append(item)\n",
        "    return result\n",
        "\n",
        "def remove_duplicates(num_list):\n",
        "    unique_list = []\n",
        "    seen = set()\n",
        "\n",
        "    for number in num_list:\n",
        "        if number not in seen:\n",
        "            unique_list.append(number)\n",
        "            seen.add(number)\n",
        "\n",
        "    return unique_list\n",
        "\n",
        "# Example list\n",
        "list1 = [1, 2, 3, 4, [44, 55, 66, True], False, (34, 56, 78, 89, 34),\n",
        "         {1, 2, 3, 3, 2, 1}, {1: 34, \"key2\": [55, 67, 78, 89], 4: (45, 22, 61, 34)},\n",
        "         [56, 'data science'], 'Machine Learning']\n",
        "\n",
        "# Flatten the list\n",
        "flattened_list = flatten(list1)\n",
        "print(\"Flattened List:\", flattened_list)\n",
        "\n",
        "# Remove duplicates\n",
        "unique_flattened_list = remove_duplicates(flattened_list)\n",
        "print(\"Unique Flattened List:\", unique_flattened_list)\n",
        "\n",
        "#product of unique flatten list\n",
        "product = 1\n",
        "for num in unique_flattened_list:\n",
        "    if num != 0:  # Ignore zeros\n",
        "        product *= num\n",
        "\n",
        "print(\"unique Flattend list Product1:\", product)\n",
        "\n",
        "#now using flattend_list  create fuction all product value\n",
        "product = 1\n",
        "for num in flattened_list:\n",
        "    if num != 0:  # Ignore zeros\n",
        "        product *= num\n",
        "\n",
        "print(\"flattend_list Product2:\", product)\n"
      ],
      "metadata": {
        "colab": {
          "base_uri": "https://localhost:8080/"
        },
        "id": "dRsUxzldqs_I",
        "outputId": "45293ccc-0b6a-426c-b856-a0bfa76b552c"
      },
      "execution_count": 19,
      "outputs": [
        {
          "output_type": "stream",
          "name": "stdout",
          "text": [
            "Flattened List: [1, 2, 3, 4, 44, 55, 66, 1, 34, 56, 78, 89, 34, 1, 2, 3, 34, 55, 67, 78, 89, 45, 22, 61, 34, 56]\n",
            "Unique Flattened List: [1, 2, 3, 4, 44, 55, 66, 34, 56, 78, 89, 67, 45, 22, 61]\n",
            "unique Flattend list Product1: 205003808312138035200\n",
            "flattend_list Product2: 1033677959746771369708460310528000\n"
          ]
        }
      ]
    },
    {
      "cell_type": "markdown",
      "source": [
        "## Q2. Write a python program for encrypting a message sent to you by your friend. The logic of encryption should be such that, for a the output should be z. For b, the output should be y. For c, the output should be x respectively. Also, the whitespace should be replaced with a dollar sign. Keep the punctuation marks unchanged.Input Sentence: I want to become a Data Scientist.Encrypt the above input sentence using the program you just created.Note: Convert the given input sentence into lowercase before encrypting. The final output should be lowercase.\n",
        "\n",
        "### Ans"
      ],
      "metadata": {
        "id": "EczS8JBo14Ny"
      }
    },
    {
      "cell_type": "code",
      "source": [
        "# Write a python program for encrypting a message sent to you by your friend. The logic of encryption should be such that, for a the output should be z. For b, the output should be y. For c, the output should be x respectively.\n",
        "# Also, the whitespace should be replaced with a dollar sign.\n",
        "#Keep the punctuation marks unchanged\n",
        "s1=\"I want to become a Data Scientist.\"\n",
        "s1=s1.lower()\n",
        "#increapting the messeage\n",
        "def encrypt_message(message):\n",
        "    encrypted_message = \"\"\n",
        "    for char in message:\n",
        "        if char.isalpha():\n",
        "            encrypted_char = chr(122 - ord(char) + 97)\n",
        "            encrypted_message += encrypted_char\n",
        "        elif char == \" \":\n",
        "            encrypted_message += \"$\"\n",
        "        else:\n",
        "            encrypted_message += char\n",
        "    return encrypted_message\n",
        "\n",
        "encrypted_message = encrypt_message(s1)\n",
        "print(\"Encrypted Message:\", encrypted_message)\n",
        "\n"
      ],
      "metadata": {
        "colab": {
          "base_uri": "https://localhost:8080/"
        },
        "id": "jFqgi9P52B0Q",
        "outputId": "73bf340b-bafd-4e64-e69e-d51b6b1a28ea"
      },
      "execution_count": 21,
      "outputs": [
        {
          "output_type": "stream",
          "name": "stdout",
          "text": [
            "Encrypted Message: r$dzmg$gl$yvxlnv$z$wzgz$hxrvmgrhg.\n"
          ]
        }
      ]
    }
  ]
}