{
  "nbformat": 4,
  "nbformat_minor": 0,
  "metadata": {
    "colab": {
      "provenance": [],
      "authorship_tag": "ABX9TyMa9z8Om76QnCCDjy9MdObR",
      "include_colab_link": true
    },
    "kernelspec": {
      "name": "python3",
      "display_name": "Python 3"
    },
    "language_info": {
      "name": "python"
    }
  },
  "cells": [
    {
      "cell_type": "markdown",
      "metadata": {
        "id": "view-in-github",
        "colab_type": "text"
      },
      "source": [
        "<a href=\"https://colab.research.google.com/github/Yash87015/impact-batch-data-scienci-assignment/blob/main/Functions_Assignment.ipynb\" target=\"_parent\"><img src=\"https://colab.research.google.com/assets/colab-badge.svg\" alt=\"Open In Colab\"/></a>"
      ]
    },
    {
      "cell_type": "markdown",
      "source": [
        "#  Python Assignment Questions\n",
        "#  Functions Assignment\n",
        "\n",
        "Name:-Yash solanki\n",
        "\n",
        "Reg email id:-yash87015@gmail.com\n",
        "\n",
        "Course name:-Data Science Masters\n",
        "\n",
        "Assignment name:-Functions Assignment\n",
        "\n",
        "Submission date:-not declare\n",
        "\n",
        "Git link:-https://github.com/Yash87015/impact-batch-data-scienci-assignment.git\n",
        "\n",
        "\n"
      ],
      "metadata": {
        "id": "fRfVynjpkcpv"
      }
    },
    {
      "cell_type": "markdown",
      "source": [
        "## Q1. Which keyword is used to create a function? Create a function to return a list of odd numbers in the range of 1 to 25.\n",
        "\n",
        "### Ans\n",
        "Keyword used to create a function: 'def'\n",
        "\n",
        "example below"
      ],
      "metadata": {
        "id": "hTr9rDlI3K1q"
      }
    },
    {
      "cell_type": "code",
      "source": [
        "#example\n",
        "#Below is a function to return odd numbers in the range 1 to 25:\n",
        "def odd_numbers():\n",
        "    return [num for num in range(1, 26) if num % 2 != 0]\n",
        "odd_numbers()"
      ],
      "metadata": {
        "colab": {
          "base_uri": "https://localhost:8080/"
        },
        "id": "SGGEDCzm3_6n",
        "outputId": "fe7f611d-27ef-452b-fa55-47c97e744245"
      },
      "execution_count": 13,
      "outputs": [
        {
          "output_type": "execute_result",
          "data": {
            "text/plain": [
              "[1, 3, 5, 7, 9, 11, 13, 15, 17, 19, 21, 23, 25]"
            ]
          },
          "metadata": {},
          "execution_count": 13
        }
      ]
    },
    {
      "cell_type": "markdown",
      "source": [
        "## Q2. Why *args and **kwargs is used in some functions? Create a function each for *args and **kwargs to demonstrate their use.\n",
        "### Ans\n",
        "1. *args is used to pass a variable number of non-keyword arguments to a function.\n",
        "\n",
        "2. **kwargs allows passing a variable number of keyword arguments to a function.\n",
        "\n",
        "\n"
      ],
      "metadata": {
        "id": "gJly93mX4wKC"
      }
    },
    {
      "cell_type": "code",
      "source": [
        "#Example function using *args:\n",
        "def sum_numbers(*args):\n",
        "    total = 0\n",
        "    for num in args:\n",
        "        total += num\n",
        "    return total\n",
        "\n",
        "# Example usage\n",
        "result = sum_numbers(1, 2, 3, 4, 5)\n",
        "print(result)"
      ],
      "metadata": {
        "colab": {
          "base_uri": "https://localhost:8080/"
        },
        "id": "jF-0K9j24bNH",
        "outputId": "1ead1264-5e75-417e-b93e-98610d4bc006"
      },
      "execution_count": 15,
      "outputs": [
        {
          "output_type": "stream",
          "name": "stdout",
          "text": [
            "15\n"
          ]
        }
      ]
    },
    {
      "cell_type": "code",
      "source": [
        "#example function using **kwargs\n",
        "def print_info(**kwargs):\n",
        "    for key, value in kwargs.items():\n",
        "        print(f\"{key}: {value}\")\n",
        "\n",
        "# Example usage\n",
        "print_info(name=\"Yash\", age=20, city=\"Ahmedabad\")\n"
      ],
      "metadata": {
        "colab": {
          "base_uri": "https://localhost:8080/"
        },
        "id": "1QToO6V-5nlK",
        "outputId": "ec22c494-f71e-4fb0-a678-704279e6c402"
      },
      "execution_count": 16,
      "outputs": [
        {
          "output_type": "stream",
          "name": "stdout",
          "text": [
            "name: Yash\n",
            "age: 20\n",
            "city: Ahmedabad\n"
          ]
        }
      ]
    },
    {
      "cell_type": "markdown",
      "source": [
        "## Q3. What is an iterator in python? Name the method used to initialise the iterator object and the method used for iteration. Use these methods to print the first five elements of the given list [2, 4, 6, 8, 10, 12, 14, 16, 18, 20].\n",
        "\n",
        "### Ans\n",
        "An iterator in Python is an object that contains a countable number of values and can be iterated upon.\n",
        "\n",
        "The method to initialize an iterator object is '__iter__()' and the method for iteration is '__next__()'.\n",
        "\n",
        "using these method example below"
      ],
      "metadata": {
        "id": "lInpRcap58q6"
      }
    },
    {
      "cell_type": "code",
      "source": [
        "#print the first five element of given list\n",
        "list=[2, 4, 6, 8, 10, 12, 14, 16, 18, 20]\n",
        "iterator=iter(list)\n",
        "for i in range(5):\n",
        "    print(next(iterator))"
      ],
      "metadata": {
        "colab": {
          "base_uri": "https://localhost:8080/"
        },
        "id": "GIEVU8Q85Dih",
        "outputId": "59a2836a-2f54-4416-b0b4-38dfdfa7e43f"
      },
      "execution_count": 17,
      "outputs": [
        {
          "output_type": "stream",
          "name": "stdout",
          "text": [
            "2\n",
            "4\n",
            "6\n",
            "8\n",
            "10\n"
          ]
        }
      ]
    },
    {
      "cell_type": "markdown",
      "source": [
        "## Q4. What is a generator function in python? Why yield keyword is used? Give an example of a generator function.\n",
        "\n",
        "### Ans\n",
        "A generator function in Python returns an iterator and is defined using the 'def' keyword but uses 'yield' to return values.\n",
        "\n",
        "The 'yield' keyword is used to return a value and pause the execution, resuming from the same point on the next call.\n",
        "\n",
        "below examplee"
      ],
      "metadata": {
        "id": "SxUmuIIe64I7"
      }
    },
    {
      "cell_type": "code",
      "source": [
        "#example of generator function using yieald\n",
        "def even_numbers(limit):\n",
        "    num = 0\n",
        "    while num < limit:\n",
        "        yield num\n",
        "        num += 2\n",
        "\n",
        "# Example usage\n",
        "even_gen = even_numbers(10)\n",
        "for num in even_gen:\n",
        "    print(num)"
      ],
      "metadata": {
        "colab": {
          "base_uri": "https://localhost:8080/"
        },
        "id": "d_Q8v38W6v9w",
        "outputId": "22c40b9a-e4df-4c7a-a0f6-b602860cab7b"
      },
      "execution_count": 19,
      "outputs": [
        {
          "output_type": "stream",
          "name": "stdout",
          "text": [
            "0\n",
            "2\n",
            "4\n",
            "6\n",
            "8\n"
          ]
        }
      ]
    },
    {
      "cell_type": "markdown",
      "source": [
        "## Q5. Create a generator function for prime numbers less than 1000. Use the next() method to print the first 20 prime numbers.\n",
        "\n",
        "### Ans\n",
        "Below is a generator function to generate prime numbers less than 1000. The next() method is used to retrieve the first 20 prime numbers.\n",
        "\n"
      ],
      "metadata": {
        "id": "a9LGwXuT7j4L"
      }
    },
    {
      "cell_type": "code",
      "source": [
        "#prime number example\n",
        "def prime_numbers():\n",
        "    for num in range(2, 1000):\n",
        "        for i in range(2, int(num ** 0.5) + 1):\n",
        "            if num % i == 0:\n",
        "                break\n",
        "        else:\n",
        "            yield num\n",
        "\n",
        "prime_gen = prime_numbers()\n",
        "for _ in range(30):\n",
        "    print(next(prime_gen))\n"
      ],
      "metadata": {
        "colab": {
          "base_uri": "https://localhost:8080/"
        },
        "id": "i7hW-afy8CrZ",
        "outputId": "02e0dcc8-8537-4134-9c6d-35f1b6661eae"
      },
      "execution_count": 22,
      "outputs": [
        {
          "output_type": "stream",
          "name": "stdout",
          "text": [
            "2\n",
            "3\n",
            "5\n",
            "7\n",
            "11\n",
            "13\n",
            "17\n",
            "19\n",
            "23\n",
            "29\n",
            "31\n",
            "37\n",
            "41\n",
            "43\n",
            "47\n",
            "53\n",
            "59\n",
            "61\n",
            "67\n",
            "71\n",
            "73\n",
            "79\n",
            "83\n",
            "89\n",
            "97\n",
            "101\n",
            "103\n",
            "107\n",
            "109\n",
            "113\n"
          ]
        }
      ]
    },
    {
      "cell_type": "code",
      "source": [],
      "metadata": {
        "id": "PsiRh57R8UGC"
      },
      "execution_count": null,
      "outputs": []
    }
  ]
}