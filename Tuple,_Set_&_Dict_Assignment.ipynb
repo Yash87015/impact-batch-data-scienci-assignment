{
  "nbformat": 4,
  "nbformat_minor": 0,
  "metadata": {
    "colab": {
      "provenance": [],
      "authorship_tag": "ABX9TyN2uZJTC981nbgbZPg2T/cC",
      "include_colab_link": true
    },
    "kernelspec": {
      "name": "python3",
      "display_name": "Python 3"
    },
    "language_info": {
      "name": "python"
    }
  },
  "cells": [
    {
      "cell_type": "markdown",
      "metadata": {
        "id": "view-in-github",
        "colab_type": "text"
      },
      "source": [
        "<a href=\"https://colab.research.google.com/github/Yash87015/impact-batch-data-scienci-assignment/blob/main/Tuple%2C_Set_%26_Dict_Assignment.ipynb\" target=\"_parent\"><img src=\"https://colab.research.google.com/assets/colab-badge.svg\" alt=\"Open In Colab\"/></a>"
      ]
    },
    {
      "cell_type": "markdown",
      "source": [
        "#  Python Assignment Questions\n",
        "# tuple, set,& dict assignment\n",
        "\n",
        "Name:-Yash solanki\n",
        "\n",
        "Reg email id:-yash87015@gmail.com\n",
        "\n",
        "Course name:-Data Science Masters\n",
        "\n",
        "Assignment name:-tuple, set,& dict assignment\n",
        "\n",
        "Submission date:-not declare\n",
        "\n",
        "Git link:-https://github.com/Yash87015/impact-batch-data-scienci-assignment.git\n",
        "\n",
        "\n"
      ],
      "metadata": {
        "id": "fRfVynjpkcpv"
      }
    },
    {
      "cell_type": "markdown",
      "source": [
        "## Q1. What are the characteristics of the tuples? Is tuple immutable?\n",
        "### Ans\n",
        "Tuples are a type of collection in Python that are ordered and indexed. They allow duplicate items and can store multiple data types. A tuple is immutable, meaning that once it is created, its elements cannot be modified, added, or removed."
      ],
      "metadata": {
        "id": "s9ihLqPqlOFC"
      }
    },
    {
      "cell_type": "markdown",
      "source": [
        "## Q2. What are the two tuple methods in python? Give an example of each method. Give a reason why tuples have only two in-built methods as compared to Lists.\n",
        "\n",
        "### Ans\n",

        "Two tuple methods in Python are count() and index(), which are used to perform operations on tuples:\n",
        "\n",
        "1. count(): Returns the number of times a specific value appears in a tuple\n",
        "\n",
        "2. index(): Searches a tuple for a specific value and returns its position\n",
        "\n",
        "Reason: Tuples have fewer built-in methods compared to lists because tuples are immutable. Most of the list methods, such as append(), extend(), or remove(), are used for modifying the list. Since tuples cannot be modified after their creation, they have fewer methods.\n",
        "\n",
        "now lets see each method example below\n"
      ],
      "metadata": {
        "id": "_akdrgq3llMS"
      }
    },
    {
      "cell_type": "code",
      "execution_count": 1,
      "metadata": {
        "colab": {
          "base_uri": "https://localhost:8080/"
        },
        "id": "K3bQEFJBjvNn",
        "outputId": "b060c035-ff34-438c-8d60-8aab84f021f6"
      },
      "outputs": [
        {
          "output_type": "execute_result",
          "data": {
            "text/plain": [
              "2"
            ]
          },
          "metadata": {},
          "execution_count": 1
        }
      ],
      "source": [
        "#Example of count():\n",
        "\n",
        "t = (1, 2, 2, 3)\n",
        "t.count(2)\n"
      ]
    },
    {
      "cell_type": "code",
      "source": [
        "#Example of index():\n",
        "\n",
        "t = (1, 2, 3, 4)\n",
        "t.index(3)\n"
      ],
      "metadata": {
        "colab": {
          "base_uri": "https://localhost:8080/"
        },
        "id": "EFdVyYrSlHij",
        "outputId": "208ac6e3-9630-4b2b-9d70-21a4c98df7fb"
      },
      "execution_count": 2,
      "outputs": [
        {
          "output_type": "execute_result",
          "data": {
            "text/plain": [
              "2"
            ]
          },
          "metadata": {},
          "execution_count": 2
        }
      ]
    },
    {
      "cell_type": "markdown",
      "source": [
        "## Q3. Which collection datatypes in python do not allow duplicate items? Write a code using a set to remove duplicates from the given list.   List = [1, 1, 1, 2, 1, 3, 1, 4, 2, 1, 2, 2, 2, 3, 2, 4, 3, 1, 3, 2, 3, 3, 3, 4, 4, 1, 4, 2, 4, 3, 4, 4]\n",
        "\n",
        "### Ans\n",
        "Sets do not allow duplicate items in Python.\n",
        "\n",
        "Code to remove duplicates from the given list: List = [1, 1, 1, 2, 1, 3, 1, 4, 2, 1, 2, 2, 2, 3, 2, 4, 3, 1, 3, 2, 3, 3, 3, 4, 4, 1, 4, 2, 4, 3, 4, 4]\n",
        "\n"
      ],
      "metadata": {
        "id": "yn6tqHf3msvz"
      }
    },
    {
      "cell_type": "code",
      "source": [
        "List = [1, 1, 1, 2, 1, 3, 1, 4, 2, 1, 2, 2, 2, 3, 2, 4, 3, 1, 3, 2, 3, 3, 3, 4, 4, 1, 4, 2, 4, 3, 4, 4]\n",
        "\n",
        "unique_list = list(set(List))\n",
        "\n",
        "print(unique_list)\n"
      ],
      "metadata": {
        "colab": {
          "base_uri": "https://localhost:8080/"
        },
        "id": "xBTqfJEYnGmF",
        "outputId": "47549cab-c01a-43e0-da63-67faac3bde7f"
      },
      "execution_count": 3,
      "outputs": [
        {
          "output_type": "stream",
          "name": "stdout",
          "text": [
            "[1, 2, 3, 4]\n"
          ]
        }
      ]
    },
    {
      "cell_type": "markdown",
      "source": [
        "## Q4. Explain the difference between the union() and update() methods for a set. Give an example of each method.\n",
        "\n",
        "### Ans\n",
        "The union() method returns a new set that contains all elements from both sets, without modifying any of them.\n",
        "\n",
        "The update() method adds elements from one set to another, modifying the original set.\n",
        "\n",
        "we see below each example"
      ],
      "metadata": {
        "id": "YBdPJZBNnTzz"
      }
    },
    {
      "cell_type": "code",
      "source": [
        "#Example of union():\n",
        "\n",
        "set1 = {1, 2, 3}\n",
        "\n",
        "set2 = {3, 4, 5}\n",
        "\n",
        "new_set = set1.union(set2)\n",
        "\n",
        "print(new_set)\n"
      ],
      "metadata": {
        "colab": {
          "base_uri": "https://localhost:8080/"
        },
        "id": "pkgtKoj4nsoR",
        "outputId": "13463535-1fed-41e5-a9b6-f0c4100981d8"
      },
      "execution_count": 4,
      "outputs": [
        {
          "output_type": "stream",
          "name": "stdout",
          "text": [
            "{1, 2, 3, 4, 5}\n"
          ]
        }
      ]
    },
    {
      "cell_type": "code",
      "source": [
        "#Example of update():\n",
        "\n",
        "set1 = {1, 2, 3}\n",
        "\n",
        "set2 = {3, 4, 5}\n",
        "\n",
        "\n",
        "set1.update(set2)\n",
        "\n",
        "print(set1)\n",
        "\n"
      ],
      "metadata": {
        "colab": {
          "base_uri": "https://localhost:8080/"
        },
        "id": "cGqUADERn04K",
        "outputId": "25c6543f-c88e-4d81-ae1c-6e5527559005"
      },
      "execution_count": 6,
      "outputs": [
        {
          "output_type": "stream",
          "name": "stdout",
          "text": [
            "{1, 2, 3, 4, 5}\n"
          ]
        }
      ]
    },
    {
      "cell_type": "markdown",
      "source": [
        "## Q5. What is a dictionary? Give an example. Also, state whether a dictionary is ordered or unordered.\n",
        "\n",
        "### Ans\n",
        "A dictionary is a collection of key-value pairs. It is mutable, meaning you can change its content. Starting from Python 3.7, dictionaries maintain the order of items as they are inserted (i.e., they are ordered)."
      ],
      "metadata": {
        "id": "1vBB46MOn_k6"
      }
    },
    {
      "cell_type": "code",
      "source": [
        "#Example:\n",
        "\n",
        "my_dict = {'name': 'John', 'age': 25, 'city': 'New York'}\n",
        "\n",
        "print(my_dict)\n",
        "\n"
      ],
      "metadata": {
        "colab": {
          "base_uri": "https://localhost:8080/"
        },
        "id": "7YpH1rdYuwQP",
        "outputId": "83493b2a-eeda-428e-e0f2-c76a56a95b80"
      },
      "execution_count": 7,
      "outputs": [
        {
          "output_type": "stream",
          "name": "stdout",
          "text": [
            "{'name': 'John', 'age': 25, 'city': 'New York'}\n"
          ]
        }
      ]
    },
    {
      "cell_type": "markdown",
      "source": [
        "## Q6. Can we create a nested dictionary? If so, please give an example by creating a simple one-level nested dictionary.\n",
        "\n",
        "### Ans\n",
        "Yes, we can create nested dictionaries where a dictionary contains another dictionary.\n",
        "\n",
        "Example of nested dictionary:\n"
      ],
      "metadata": {
        "id": "qzlC9uqdu3Eg"
      }
    },
    {
      "cell_type": "code",
      "source": [
        "#example\n",
        "nested_dict = {'person1': {'name': 'John', 'age': 25}, 'person2': {'name': 'Alice', 'age': 30}}\n",
        "\n",
        "print(nested_dict)\n"
      ],
      "metadata": {
        "colab": {
          "base_uri": "https://localhost:8080/"
        },
        "id": "eNBOv-0ivFi4",
        "outputId": "370b2759-bd6c-40f1-820c-daedaba7d9f4"
      },
      "execution_count": 8,
      "outputs": [
        {
          "output_type": "stream",
          "name": "stdout",
          "text": [
            "{'person1': {'name': 'John', 'age': 25}, 'person2': {'name': 'Alice', 'age': 30}}\n"
          ]
        }
      ]
    },
    {
      "cell_type": "markdown",
      "source": [
        "## Q7. Using setdefault() method, create key named topics in the given dictionary and also add the value of the key as this list ['Python', 'Machine Learning’, 'Deep Learning'] dict1 = {'language' : 'Python', 'course': 'Data Science Masters'}   \n",
        "\n",
        "### Ans\n"
      ],
      "metadata": {
        "id": "rqJzDWQowhYR"
      }
    },
    {
      "cell_type": "code",
      "source": [
        "#Example:\n",
        "dict1 = {'language': 'Python', 'course': 'Data Science Masters'}\n",
        "\n",
        "# Using setdefault to add the key 'topics' with the specified list\n",
        "dict1.setdefault('topics', ['Python', 'Machine Learning', 'Deep Learning'])\n",
        "\n",
        "print(dict1)\n",
        "\n",
        "\n"
      ],
      "metadata": {
        "colab": {
          "base_uri": "https://localhost:8080/"
        },
        "id": "m0bXrN4iw-0D",
        "outputId": "53d4730e-2e4b-4466-e4eb-20322ca283e5"
      },
      "execution_count": 9,
      "outputs": [
        {
          "output_type": "stream",
          "name": "stdout",
          "text": [
            "{'language': 'Python', 'course': 'Data Science Masters', 'topics': ['Python', 'Machine Learning', 'Deep Learning']}\n"
          ]
        }
      ]
    },
    {
      "cell_type": "markdown",
      "source": [
        "## Q8. What are the three view objects in dictionaries? Use the three in-built methods in python to display these three view objects for the given dictionary.   dict1 = {'Sport': 'Cricket' , 'Teams': ['India', 'Australia', 'England', 'South Africa', 'Sri Lanka', 'New Zealand']}\n",
        "\n",
        "### Ans\n",
        "\n"
      ],
      "metadata": {
        "id": "GQvD_xSkx7Ph"
      }
    },
    {
      "cell_type": "code",
      "source": [
        "dict1 = {\n",
        "    'Sport': 'Cricket',\n",
        "    'Teams': ['India', 'Australia', 'England', 'South Africa', 'Sri Lanka', 'New Zealand']\n",
        "}\n",
        "\n",
        "# Displaying the view objects\n",
        "keys_view = dict1.keys()      # View of keys\n",
        "values_view = dict1.values()  # View of values\n",
        "items_view = dict1.items()    # View of key-value pairs\n",
        "\n",
        "# Printing the view objects\n",
        "print(\"Keys:\", keys_view)\n",
        "print(\"Values:\", values_view)\n",
        "print(\"Items:\", items_view)\n"
      ],
      "metadata": {
        "colab": {
          "base_uri": "https://localhost:8080/"
        },
        "id": "mL79vybnyLiM",
        "outputId": "fc7419cc-3c35-4db0-c0fa-2572276b4579"
      },
      "execution_count": 10,
      "outputs": [
        {
          "output_type": "stream",
          "name": "stdout",
          "text": [
            "Keys: dict_keys(['Sport', 'Teams'])\n",
            "Values: dict_values(['Cricket', ['India', 'Australia', 'England', 'South Africa', 'Sri Lanka', 'New Zealand']])\n",
            "Items: dict_items([('Sport', 'Cricket'), ('Teams', ['India', 'Australia', 'England', 'South Africa', 'Sri Lanka', 'New Zealand'])])\n"
          ]
        }
      ]
    }
  ]
}
